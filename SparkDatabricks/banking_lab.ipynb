{
 "cells": [
  {
   "cell_type": "code",
   "execution_count": 0,
   "metadata": {
    "application/vnd.databricks.v1+cell": {
     "cellMetadata": {
      "byteLimit": 2048000,
      "rowLimit": 10000
     },
     "inputWidgets": {},
     "nuid": "e922643b-7ae0-45df-9852-718f31ce5944",
     "showTitle": false,
     "tableResultSettingsMap": {},
     "title": ""
    }
   },
   "outputs": [],
   "source": [
    "%python\n",
    "import pyspark\n",
    "from pyspark.sql import SparkSession\n",
    "spark = SparkSession.builder.getOrCreate()\n",
    "from pyspark.sql.functions import *"
   ]
  },
  {
   "cell_type": "code",
   "execution_count": 0,
   "metadata": {
    "application/vnd.databricks.v1+cell": {
     "cellMetadata": {
      "byteLimit": 2048000,
      "rowLimit": 10000
     },
     "inputWidgets": {},
     "nuid": "63df30d5-7569-4a9a-b0f1-7769c2192074",
     "showTitle": false,
     "tableResultSettingsMap": {},
     "title": ""
    }
   },
   "outputs": [],
   "source": [
    "client_id = 'b53ca2d2-b8ee-4282-84db-112e9512b018'\n",
    "tenant_id = 'd4a2d791-9631-4acd-8b35-d758e27620fe'\n",
    "# removed client_secret in order to upload in github\n",
    "configs = {\"fs.azure.account.auth.type\": \"OAuth\",\n",
    "          \"fs.azure.account.oauth.provider.type\": \"org.apache.hadoop.fs.azurebfs.oauth2.ClientCredsTokenProvider\",\n",
    "          \"fs.azure.account.oauth2.client.id\": client_id,\n",
    "          \"fs.azure.account.oauth2.client.secret\": client_secret,\n",
    "          \"fs.azure.account.oauth2.client.endpoint\": f\"https://login.microsoftonline.com/{tenant_id}/oauth2/token\"}\n",
    "          "
   ]
  },
  {
   "cell_type": "code",
   "execution_count": 0,
   "metadata": {
    "application/vnd.databricks.v1+cell": {
     "cellMetadata": {
      "byteLimit": 2048000,
      "rowLimit": 10000
     },
     "inputWidgets": {},
     "nuid": "30d7aca6-5219-4b01-bd69-795486ecc77f",
     "showTitle": false,
     "tableResultSettingsMap": {},
     "title": ""
    }
   },
   "outputs": [
    {
     "data": {
      "text/html": [
       "<style scoped>\n",
       "  .table-result-container {\n",
       "    max-height: 300px;\n",
       "    overflow: auto;\n",
       "  }\n",
       "  table, th, td {\n",
       "    border: 1px solid black;\n",
       "    border-collapse: collapse;\n",
       "  }\n",
       "  th, td {\n",
       "    padding: 5px;\n",
       "  }\n",
       "  th {\n",
       "    text-align: left;\n",
       "  }\n",
       "</style><div class='table-result-container'><table class='table-result'><thead style='background-color: white'><tr><th>path</th><th>name</th><th>size</th><th>modificationTime</th></tr></thead><tbody><tr><td>dbfs:/mnt/springboardde/demo/credit card.csv</td><td>credit card.csv</td><td>664848</td><td>1745694106000</td></tr><tr><td>dbfs:/mnt/springboardde/demo/loan.csv</td><td>loan.csv</td><td>43967</td><td>1745694106000</td></tr><tr><td>dbfs:/mnt/springboardde/demo/txn.csv</td><td>txn.csv</td><td>7885867</td><td>1745694107000</td></tr></tbody></table></div>"
      ]
     },
     "metadata": {
      "application/vnd.databricks.v1+output": {
       "addedWidgets": {},
       "aggData": [],
       "aggError": "",
       "aggOverflow": false,
       "aggSchema": [],
       "aggSeriesLimitReached": false,
       "aggType": "",
       "arguments": {},
       "columnCustomDisplayInfos": {},
       "data": [
        [
         "dbfs:/mnt/springboardde/demo/credit card.csv",
         "credit card.csv",
         664848,
         1745694106000
        ],
        [
         "dbfs:/mnt/springboardde/demo/loan.csv",
         "loan.csv",
         43967,
         1745694106000
        ],
        [
         "dbfs:/mnt/springboardde/demo/txn.csv",
         "txn.csv",
         7885867,
         1745694107000
        ]
       ],
       "datasetInfos": [],
       "dbfsResultPath": null,
       "isJsonSchema": true,
       "metadata": {},
       "overflow": false,
       "plotOptions": {
        "customPlotOptions": {},
        "displayType": "table",
        "pivotAggregation": null,
        "pivotColumns": null,
        "xColumns": null,
        "yColumns": null
       },
       "removedWidgets": [],
       "schema": [
        {
         "metadata": "{}",
         "name": "path",
         "type": "\"string\""
        },
        {
         "metadata": "{}",
         "name": "name",
         "type": "\"string\""
        },
        {
         "metadata": "{}",
         "name": "size",
         "type": "\"long\""
        },
        {
         "metadata": "{}",
         "name": "modificationTime",
         "type": "\"long\""
        }
       ],
       "type": "table"
      }
     },
     "output_type": "display_data"
    }
   ],
   "source": [
    "try:\n",
    "  dbutils.fs.mount(\n",
    "  source = \"abfss://demo@springboardde.dfs.core.windows.net/\",\n",
    "  mount_point = \"/mnt/springboardde/demo\",\n",
    "  extra_configs = configs)\n",
    "except Exception as e:\n",
    "  pass\n",
    "display(dbutils.fs.ls(\"/mnt/springboardde/demo\"))"
   ]
  },
  {
   "cell_type": "markdown",
   "metadata": {
    "application/vnd.databricks.v1+cell": {
     "cellMetadata": {
      "byteLimit": 2048000,
      "rowLimit": 10000
     },
     "inputWidgets": {},
     "nuid": "47056c83-3de6-4a74-8b0c-dcccf0d73b9c",
     "showTitle": false,
     "tableResultSettingsMap": {},
     "title": ""
    }
   },
   "source": [
    "# LOAN DATASET #"
   ]
  },
  {
   "cell_type": "code",
   "execution_count": 0,
   "metadata": {
    "application/vnd.databricks.v1+cell": {
     "cellMetadata": {
      "byteLimit": 2048000,
      "rowLimit": 10000
     },
     "inputWidgets": {},
     "nuid": "e786e68c-10ef-4c01-9abd-47fc42641371",
     "showTitle": false,
     "tableResultSettingsMap": {},
     "title": ""
    }
   },
   "outputs": [],
   "source": [
    "#read in load dataset\n",
    "loan_df = spark.read.options(delimiter=',').csv('/mnt/springboardde/demo/loan.csv',inferSchema=True,header=True)"
   ]
  },
  {
   "cell_type": "code",
   "execution_count": 0,
   "metadata": {
    "application/vnd.databricks.v1+cell": {
     "cellMetadata": {
      "byteLimit": 2048000,
      "rowLimit": 10000
     },
     "inputWidgets": {},
     "nuid": "72e780d0-e313-4450-9691-a3e9aad95203",
     "showTitle": false,
     "tableResultSettingsMap": {},
     "title": ""
    },
    "scrolled": true
   },
   "outputs": [
    {
     "name": "stdout",
     "output_type": "stream",
     "text": [
      "root\n",
      " |-- Customer_ID: string (nullable = true)\n",
      " |-- Age: integer (nullable = true)\n",
      " |-- Gender: string (nullable = true)\n",
      " |-- Occupation: string (nullable = true)\n",
      " |-- Marital Status: string (nullable = true)\n",
      " |-- Family Size: integer (nullable = true)\n",
      " |-- Income: integer (nullable = true)\n",
      " |-- Expenditure: integer (nullable = true)\n",
      " |-- Use Frequency: integer (nullable = true)\n",
      " |-- Loan Category: string (nullable = true)\n",
      " |-- Loan Amount: string (nullable = true)\n",
      " |-- Overdue: integer (nullable = true)\n",
      " |--  Debt Record: string (nullable = true)\n",
      " |--  Returned Cheque: integer (nullable = true)\n",
      " |--  Dishonour of Bill: integer (nullable = true)\n",
      "\n"
     ]
    }
   ],
   "source": [
    "# Print the schema of the loan dataset\n",
    "loan_df.printSchema()"
   ]
  },
  {
   "cell_type": "code",
   "execution_count": 0,
   "metadata": {
    "application/vnd.databricks.v1+cell": {
     "cellMetadata": {
      "byteLimit": 2048000,
      "rowLimit": 10000
     },
     "inputWidgets": {},
     "nuid": "5b1db28c-a7e1-4f1f-b01d-a638bebe6ef3",
     "showTitle": false,
     "tableResultSettingsMap": {},
     "title": ""
    },
    "scrolled": true
   },
   "outputs": [
    {
     "data": {
      "text/html": [
       "<style scoped>\n",
       "  .table-result-container {\n",
       "    max-height: 300px;\n",
       "    overflow: auto;\n",
       "  }\n",
       "  table, th, td {\n",
       "    border: 1px solid black;\n",
       "    border-collapse: collapse;\n",
       "  }\n",
       "  th, td {\n",
       "    padding: 5px;\n",
       "  }\n",
       "  th {\n",
       "    text-align: left;\n",
       "  }\n",
       "</style><div class='table-result-container'><table class='table-result'><thead style='background-color: white'><tr><th>Customer_ID</th><th>Age</th><th>Gender</th><th>Occupation</th><th>Marital Status</th><th>Family Size</th><th>Income</th><th>Expenditure</th><th>Use Frequency</th><th>Loan Category</th><th>Loan Amount</th><th>Overdue</th><th> Debt Record</th><th> Returned Cheque</th><th> Dishonour of Bill</th></tr></thead><tbody><tr><td>IB14001</td><td>30</td><td>MALE</td><td>BANK MANAGER</td><td>SINGLE</td><td>4</td><td>50000</td><td>22199</td><td>6</td><td>HOUSING</td><td> 10,00,000 </td><td>5</td><td>42,898</td><td>6</td><td>9</td></tr><tr><td>IB14008</td><td>44</td><td>MALE</td><td>PROFESSOR</td><td>MARRIED</td><td>6</td><td>51000</td><td>19999</td><td>4</td><td>SHOPPING</td><td>50,000</td><td>3</td><td>33,999</td><td>1</td><td>5</td></tr><tr><td>IB14012</td><td>30</td><td>FEMALE</td><td>DENTIST</td><td>SINGLE</td><td>3</td><td>58450</td><td>27675</td><td>5</td><td>TRAVELLING</td><td>75,000</td><td>6</td><td>20,876</td><td>3</td><td>1</td></tr><tr><td>IB14018</td><td>29</td><td>MALE</td><td>TEACHER</td><td>MARRIED</td><td>5</td><td>45767</td><td>12787</td><td>3</td><td>GOLD LOAN</td><td> 6,00,000 </td><td>7</td><td>11,000</td><td>0</td><td>4</td></tr><tr><td>IB14022</td><td>34</td><td>MALE</td><td>POLICE</td><td>SINGLE</td><td>4</td><td>43521</td><td>11999</td><td>3</td><td>AUTOMOBILE</td><td> 2,00,000 </td><td>2</td><td>43,898</td><td>1</td><td>2</td></tr></tbody></table></div>"
      ]
     },
     "metadata": {
      "application/vnd.databricks.v1+output": {
       "addedWidgets": {},
       "aggData": [],
       "aggError": "",
       "aggOverflow": false,
       "aggSchema": [],
       "aggSeriesLimitReached": false,
       "aggType": "",
       "arguments": {},
       "columnCustomDisplayInfos": {},
       "data": [
        [
         "IB14001",
         30,
         "MALE",
         "BANK MANAGER",
         "SINGLE",
         4,
         50000,
         22199,
         6,
         "HOUSING",
         " 10,00,000 ",
         5,
         "42,898",
         6,
         9
        ],
        [
         "IB14008",
         44,
         "MALE",
         "PROFESSOR",
         "MARRIED",
         6,
         51000,
         19999,
         4,
         "SHOPPING",
         "50,000",
         3,
         "33,999",
         1,
         5
        ],
        [
         "IB14012",
         30,
         "FEMALE",
         "DENTIST",
         "SINGLE",
         3,
         58450,
         27675,
         5,
         "TRAVELLING",
         "75,000",
         6,
         "20,876",
         3,
         1
        ],
        [
         "IB14018",
         29,
         "MALE",
         "TEACHER",
         "MARRIED",
         5,
         45767,
         12787,
         3,
         "GOLD LOAN",
         " 6,00,000 ",
         7,
         "11,000",
         0,
         4
        ],
        [
         "IB14022",
         34,
         "MALE",
         "POLICE",
         "SINGLE",
         4,
         43521,
         11999,
         3,
         "AUTOMOBILE",
         " 2,00,000 ",
         2,
         "43,898",
         1,
         2
        ]
       ],
       "datasetInfos": [],
       "dbfsResultPath": null,
       "isJsonSchema": true,
       "metadata": {},
       "overflow": false,
       "plotOptions": {
        "customPlotOptions": {},
        "displayType": "table",
        "pivotAggregation": null,
        "pivotColumns": null,
        "xColumns": null,
        "yColumns": null
       },
       "removedWidgets": [],
       "schema": [
        {
         "metadata": "{}",
         "name": "Customer_ID",
         "type": "\"string\""
        },
        {
         "metadata": "{}",
         "name": "Age",
         "type": "\"long\""
        },
        {
         "metadata": "{}",
         "name": "Gender",
         "type": "\"string\""
        },
        {
         "metadata": "{}",
         "name": "Occupation",
         "type": "\"string\""
        },
        {
         "metadata": "{}",
         "name": "Marital Status",
         "type": "\"string\""
        },
        {
         "metadata": "{}",
         "name": "Family Size",
         "type": "\"long\""
        },
        {
         "metadata": "{}",
         "name": "Income",
         "type": "\"long\""
        },
        {
         "metadata": "{}",
         "name": "Expenditure",
         "type": "\"long\""
        },
        {
         "metadata": "{}",
         "name": "Use Frequency",
         "type": "\"long\""
        },
        {
         "metadata": "{}",
         "name": "Loan Category",
         "type": "\"string\""
        },
        {
         "metadata": "{}",
         "name": "Loan Amount",
         "type": "\"string\""
        },
        {
         "metadata": "{}",
         "name": "Overdue",
         "type": "\"long\""
        },
        {
         "metadata": "{}",
         "name": " Debt Record",
         "type": "\"string\""
        },
        {
         "metadata": "{}",
         "name": " Returned Cheque",
         "type": "\"long\""
        },
        {
         "metadata": "{}",
         "name": " Dishonour of Bill",
         "type": "\"long\""
        }
       ],
       "type": "table"
      }
     },
     "output_type": "display_data"
    }
   ],
   "source": [
    "# Print the first 5 lines of the loan dataset\n",
    "display(loan_df.head(5))"
   ]
  },
  {
   "cell_type": "code",
   "execution_count": 0,
   "metadata": {
    "application/vnd.databricks.v1+cell": {
     "cellMetadata": {
      "byteLimit": 2048000,
      "rowLimit": 10000
     },
     "inputWidgets": {},
     "nuid": "e0b13b13-81e0-4ad7-be96-fd7d05148b82",
     "showTitle": false,
     "tableResultSettingsMap": {},
     "title": ""
    }
   },
   "outputs": [
    {
     "name": "stdout",
     "output_type": "stream",
     "text": [
      "Number of columns in Loan Dataset: 15\n"
     ]
    }
   ],
   "source": [
    "# Print the number of columns in the loan dataset\n",
    "print(\"Number of columns in Loan Dataset:\", len(loan_df.columns))"
   ]
  },
  {
   "cell_type": "code",
   "execution_count": 0,
   "metadata": {
    "application/vnd.databricks.v1+cell": {
     "cellMetadata": {
      "byteLimit": 2048000,
      "rowLimit": 10000
     },
     "inputWidgets": {},
     "nuid": "3f298fd4-3bc1-4669-ab44-02f02178502b",
     "showTitle": false,
     "tableResultSettingsMap": {},
     "title": ""
    }
   },
   "outputs": [
    {
     "name": "stdout",
     "output_type": "stream",
     "text": [
      "Number of rows in Loan Dataset: 500\n"
     ]
    }
   ],
   "source": [
    "# Print the number of rows in the loan dataset\n",
    "print(\"Number of rows in Loan Dataset:\", loan_df.count())"
   ]
  },
  {
   "cell_type": "code",
   "execution_count": 0,
   "metadata": {
    "application/vnd.databricks.v1+cell": {
     "cellMetadata": {
      "byteLimit": 2048000,
      "rowLimit": 10000
     },
     "inputWidgets": {},
     "nuid": "97fa8cc3-072f-4e47-8d90-548688d14adc",
     "showTitle": false,
     "tableResultSettingsMap": {},
     "title": ""
    }
   },
   "outputs": [
    {
     "name": "stdout",
     "output_type": "stream",
     "text": [
      "Count of distinct records in Loan Dataset: 500\n"
     ]
    }
   ],
   "source": [
    "# Print the count of distinct records in the loan dataset\n",
    "print(\"Count of distinct records in Loan Dataset:\", loan_df.distinct().count())"
   ]
  },
  {
   "cell_type": "code",
   "execution_count": 0,
   "metadata": {
    "application/vnd.databricks.v1+cell": {
     "cellMetadata": {
      "byteLimit": 2048000,
      "rowLimit": 10000
     },
     "inputWidgets": {},
     "nuid": "970f2440-db16-4c00-bed6-af4764a802f0",
     "showTitle": false,
     "tableResultSettingsMap": {},
     "title": ""
    },
    "scrolled": true
   },
   "outputs": [
    {
     "name": "stdout",
     "output_type": "stream",
     "text": [
      "+------------------+-----+\n",
      "|     Loan Category|count|\n",
      "+------------------+-----+\n",
      "|           HOUSING|   67|\n",
      "|        TRAVELLING|   53|\n",
      "|       BOOK STORES|    7|\n",
      "|       AGRICULTURE|   12|\n",
      "|         GOLD LOAN|   77|\n",
      "|  EDUCATIONAL LOAN|   20|\n",
      "|        AUTOMOBILE|   60|\n",
      "|          BUSINESS|   24|\n",
      "|COMPUTER SOFTWARES|   35|\n",
      "|           DINNING|   14|\n",
      "|          SHOPPING|   35|\n",
      "|       RESTAURANTS|   41|\n",
      "|       ELECTRONICS|   14|\n",
      "|          BUILDING|    7|\n",
      "|        RESTAURANT|   20|\n",
      "|   HOME APPLIANCES|   14|\n",
      "+------------------+-----+\n",
      "\n"
     ]
    }
   ],
   "source": [
    "# find the number of loans in each category\n",
    "results = loan_df.groupBy(\"Loan Category\").agg(\n",
    "    count(\"*\").alias(\"count\")\n",
    ")\n",
    "results.show()"
   ]
  },
  {
   "cell_type": "code",
   "execution_count": 0,
   "metadata": {
    "application/vnd.databricks.v1+cell": {
     "cellMetadata": {
      "byteLimit": 2048000,
      "rowLimit": 10000
     },
     "inputWidgets": {},
     "nuid": "6305cf38-6dcf-4559-a17f-aa5af58dca15",
     "showTitle": false,
     "tableResultSettingsMap": {},
     "title": ""
    }
   },
   "outputs": [
    {
     "name": "stdout",
     "output_type": "stream",
     "text": [
      "Number of people who have taken loans greater than 1 lakh: 450\n"
     ]
    }
   ],
   "source": [
    "# find the number of people who have taken more than 1 lack loan\n",
    "# Clean the loan amount column by removing spaces, commas, and quotes\n",
    "loan_df = loan_df.withColumn(\n",
    "    \"Loan_Amount_Clean\", \n",
    "    regexp_replace(regexp_replace(col(\"Loan Amount\"), \"[, ]\", \"\"), '\"', \"\").cast(\"double\")\n",
    ")\n",
    "\n",
    "# Filter for loans greater than 100,000 (1 lakh)\n",
    "loans_over_one_lakh = loan_df.filter(col(\"Loan_Amount_Clean\") > 100000)\n",
    "\n",
    "# Count the number of people with loans over 1 lakh\n",
    "result = loans_over_one_lakh.count()\n",
    "\n",
    "print(f\"Number of people who have taken loans greater than 1 lakh: {result}\")\n"
   ]
  },
  {
   "cell_type": "code",
   "execution_count": 0,
   "metadata": {
    "application/vnd.databricks.v1+cell": {
     "cellMetadata": {
      "byteLimit": 2048000,
      "rowLimit": 10000
     },
     "inputWidgets": {},
     "nuid": "1669d88a-814e-4158-b404-10bef5cf83f1",
     "showTitle": false,
     "tableResultSettingsMap": {},
     "title": ""
    },
    "scrolled": true
   },
   "outputs": [
    {
     "name": "stdout",
     "output_type": "stream",
     "text": [
      "Number of people with income greater than 60,000 rupees: 198\n"
     ]
    }
   ],
   "source": [
    "# find the number of people with income greater than 60000 rupees\n",
    "high_income_people = loan_df.filter(col(\"Income\") > 60000)\n",
    "\n",
    "# Count the number of people with income > 60000\n",
    "results = high_income_people.count()\n",
    "\n",
    "print(f\"Number of people with income greater than 60,000 rupees: {results}\")"
   ]
  },
  {
   "cell_type": "code",
   "execution_count": 0,
   "metadata": {
    "application/vnd.databricks.v1+cell": {
     "cellMetadata": {
      "byteLimit": 2048000,
      "rowLimit": 10000
     },
     "inputWidgets": {},
     "nuid": "3b6ba4a2-a08f-482a-9cf6-52fdc1e491e2",
     "showTitle": false,
     "tableResultSettingsMap": {},
     "title": ""
    }
   },
   "outputs": [
    {
     "name": "stdout",
     "output_type": "stream",
     "text": [
      "Number of people with 2+ returned cheques and income less than 50,000: 137\n"
     ]
    }
   ],
   "source": [
    "# find the number of people with 2 or more returned cheques and income less than 50000\n",
    "filtered_people = loan_df.filter(\n",
    "    (col(\" Returned Cheque\") >= 2) & \n",
    "    (col(\"Income\") < 50000)\n",
    ")\n",
    "\n",
    "# Count the number of people matching these criteria\n",
    "results = filtered_people.count()\n",
    "\n",
    "print(f\"Number of people with 2+ returned cheques and income less than 50,000: {results}\")\n"
   ]
  },
  {
   "cell_type": "code",
   "execution_count": 0,
   "metadata": {
    "application/vnd.databricks.v1+cell": {
     "cellMetadata": {
      "byteLimit": 2048000,
      "rowLimit": 10000
     },
     "inputWidgets": {},
     "nuid": "01b288c5-8e01-4636-a1c1-28e33fe9551b",
     "showTitle": false,
     "tableResultSettingsMap": {},
     "title": ""
    }
   },
   "outputs": [
    {
     "name": "stdout",
     "output_type": "stream",
     "text": [
      "Number of people with 2+ returned cheques and are single: 111\n"
     ]
    }
   ],
   "source": [
    "# find the number of people with 2 or more returned cheques and are single\n",
    "filtered_people = loan_df.filter(\n",
    "    (col(\" Returned Cheque\") >= 2) & \n",
    "    (col(\"Marital Status\") == \"SINGLE\")\n",
    ")\n",
    "\n",
    "# Count the number of people matching these criteria\n",
    "results = filtered_people.count()\n",
    "\n",
    "print(f\"Number of people with 2+ returned cheques and are single: {results}\")\n"
   ]
  },
  {
   "cell_type": "code",
   "execution_count": 0,
   "metadata": {
    "application/vnd.databricks.v1+cell": {
     "cellMetadata": {
      "byteLimit": 2048000,
      "rowLimit": 10000
     },
     "inputWidgets": {},
     "nuid": "e14d147a-694f-4e95-a8ca-f48b9687d060",
     "showTitle": false,
     "tableResultSettingsMap": {},
     "title": ""
    },
    "scrolled": false
   },
   "outputs": [
    {
     "name": "stdout",
     "output_type": "stream",
     "text": [
      "Number of people with expenditure over 50,000: 6\n"
     ]
    }
   ],
   "source": [
    "# find the  number of people with expenditure over 50000 a month \n",
    "high_expenditure_people = loan_df.filter(col(\"Expenditure\") > 50000)\n",
    "\n",
    "# Count the number of people with expenditure > 50000\n",
    "results = high_expenditure_people.count()\n",
    "\n",
    "print(f\"Number of people with expenditure over 50,000: {results}\")\n"
   ]
  },
  {
   "cell_type": "markdown",
   "metadata": {
    "application/vnd.databricks.v1+cell": {
     "cellMetadata": {
      "byteLimit": 2048000,
      "rowLimit": 10000
     },
     "inputWidgets": {},
     "nuid": "f0e61af4-85d7-48c8-8b22-458ae0893dcf",
     "showTitle": false,
     "tableResultSettingsMap": {},
     "title": ""
    }
   },
   "source": [
    "# CREDIT CARD DATASET #"
   ]
  },
  {
   "cell_type": "code",
   "execution_count": 0,
   "metadata": {
    "application/vnd.databricks.v1+cell": {
     "cellMetadata": {
      "byteLimit": 2048000,
      "rowLimit": 10000
     },
     "inputWidgets": {},
     "nuid": "db638b63-7e08-4c0f-a3f2-6aa0ebf07727",
     "showTitle": false,
     "tableResultSettingsMap": {},
     "title": ""
    }
   },
   "outputs": [],
   "source": [
    "# Load the credit card dataset\n",
    "credit_df = spark.read.options(delimiter=',').csv('/mnt/springboardde/demo/credit card.csv',inferSchema=True,header=True)"
   ]
  },
  {
   "cell_type": "code",
   "execution_count": 0,
   "metadata": {
    "application/vnd.databricks.v1+cell": {
     "cellMetadata": {
      "byteLimit": 2048000,
      "rowLimit": 10000
     },
     "inputWidgets": {},
     "nuid": "96841bf6-f55f-4c9e-b48f-fe3a555612ab",
     "showTitle": false,
     "tableResultSettingsMap": {},
     "title": ""
    },
    "scrolled": true
   },
   "outputs": [
    {
     "name": "stdout",
     "output_type": "stream",
     "text": [
      "root\n",
      " |-- RowNumber: integer (nullable = true)\n",
      " |-- CustomerId: integer (nullable = true)\n",
      " |-- Surname: string (nullable = true)\n",
      " |-- CreditScore: integer (nullable = true)\n",
      " |-- Geography: string (nullable = true)\n",
      " |-- Gender: string (nullable = true)\n",
      " |-- Age: integer (nullable = true)\n",
      " |-- Tenure: integer (nullable = true)\n",
      " |-- Balance: double (nullable = true)\n",
      " |-- NumOfProducts: integer (nullable = true)\n",
      " |-- IsActiveMember: integer (nullable = true)\n",
      " |-- EstimatedSalary: double (nullable = true)\n",
      " |-- Exited: integer (nullable = true)\n",
      "\n"
     ]
    }
   ],
   "source": [
    "# Print the schema of the credit card dataset\n",
    "credit_df.printSchema()"
   ]
  },
  {
   "cell_type": "code",
   "execution_count": 0,
   "metadata": {
    "application/vnd.databricks.v1+cell": {
     "cellMetadata": {
      "byteLimit": 2048000,
      "rowLimit": 10000
     },
     "inputWidgets": {},
     "nuid": "6efcef4a-46b0-4b6e-94cc-89bed0795600",
     "showTitle": false,
     "tableResultSettingsMap": {},
     "title": ""
    }
   },
   "outputs": [
    {
     "name": "stdout",
     "output_type": "stream",
     "text": [
      "Number of columns in Credit Card Dataset: 13\n"
     ]
    }
   ],
   "source": [
    "# Print the number of columns in the credit card dataset\n",
    "print(\"Number of columns in Credit Card Dataset:\", len(credit_df.columns))"
   ]
  },
  {
   "cell_type": "code",
   "execution_count": 0,
   "metadata": {
    "application/vnd.databricks.v1+cell": {
     "cellMetadata": {
      "byteLimit": 2048000,
      "rowLimit": 10000
     },
     "inputWidgets": {},
     "nuid": "b00edb8d-d853-43e4-81b6-f819afd09316",
     "showTitle": false,
     "tableResultSettingsMap": {},
     "title": ""
    }
   },
   "outputs": [
    {
     "name": "stdout",
     "output_type": "stream",
     "text": [
      "Number of rows in Credit Card Dataset: 10000\n"
     ]
    }
   ],
   "source": [
    "# Print the number of rows in the credit card dataset\n",
    "print(\"Number of rows in Credit Card Dataset:\", credit_df.count())"
   ]
  },
  {
   "cell_type": "code",
   "execution_count": 0,
   "metadata": {
    "application/vnd.databricks.v1+cell": {
     "cellMetadata": {
      "byteLimit": 2048000,
      "rowLimit": 10000
     },
     "inputWidgets": {},
     "nuid": "ebb542fe-274a-4274-b99f-0aaf4b70ad5b",
     "showTitle": false,
     "tableResultSettingsMap": {},
     "title": ""
    }
   },
   "outputs": [
    {
     "name": "stdout",
     "output_type": "stream",
     "text": [
      "Count of distinct records in Loan Dataset: 10000\n"
     ]
    }
   ],
   "source": [
    "# Print the number of distinct records in the credit card dataset\n",
    "print(\"Count of distinct records in Loan Dataset:\", credit_df.distinct().count())"
   ]
  },
  {
   "cell_type": "code",
   "execution_count": 0,
   "metadata": {
    "application/vnd.databricks.v1+cell": {
     "cellMetadata": {
      "byteLimit": 2048000,
      "rowLimit": 10000
     },
     "inputWidgets": {},
     "nuid": "6233ad3f-771c-4b5e-bb70-35cfe0d869da",
     "showTitle": false,
     "tableResultSettingsMap": {},
     "title": ""
    }
   },
   "outputs": [
    {
     "name": "stdout",
     "output_type": "stream",
     "text": [
      "+---------+----------+--------+-----------+---------+------+---+------+---------+-------------+--------------+---------------+------+\n",
      "|RowNumber|CustomerId| Surname|CreditScore|Geography|Gender|Age|Tenure|  Balance|NumOfProducts|IsActiveMember|EstimatedSalary|Exited|\n",
      "+---------+----------+--------+-----------+---------+------+---+------+---------+-------------+--------------+---------------+------+\n",
      "|        1|  15634602|Hargrave|        619|   France|Female| 42|     2|      0.0|            1|             1|      101348.88|     1|\n",
      "|        2|  15647311|    Hill|        608|    Spain|Female| 41|     1| 83807.86|            1|             1|      112542.58|     0|\n",
      "|        3|  15619304|    Onio|        502|   France|Female| 42|     8| 159660.8|            3|             0|      113931.57|     1|\n",
      "|        4|  15701354|    Boni|        699|   France|Female| 39|     1|      0.0|            2|             0|       93826.63|     0|\n",
      "|        5|  15737888|Mitchell|        850|    Spain|Female| 43|     2|125510.82|            1|             1|        79084.1|     0|\n",
      "+---------+----------+--------+-----------+---------+------+---+------+---------+-------------+--------------+---------------+------+\n",
      "only showing top 5 rows\n"
     ]
    }
   ],
   "source": [
    "# Print the first 5 rows in the credit card dataset\n",
    "credit_df.show(5)"
   ]
  },
  {
   "cell_type": "code",
   "execution_count": 0,
   "metadata": {
    "application/vnd.databricks.v1+cell": {
     "cellMetadata": {
      "byteLimit": 2048000,
      "rowLimit": 10000
     },
     "inputWidgets": {},
     "nuid": "e9681593-ac93-4ec4-bcea-af845988c66f",
     "showTitle": false,
     "tableResultSettingsMap": {},
     "title": ""
    },
    "scrolled": true
   },
   "outputs": [
    {
     "name": "stdout",
     "output_type": "stream",
     "text": [
      "Number of people who are elgible for credit card: 4083\n"
     ]
    }
   ],
   "source": [
    "# Find the number of members who are elgible for credit card\n",
    "eligible_people = credit_df.filter(\n",
    "    (col(\"CreditScore\") > 650) \n",
    "    & (col(\"Exited\") == 0)\n",
    ")\n",
    "\n",
    "# Count the number of people matching these criteria\n",
    "results = eligible_people.count()\n",
    "\n",
    "print(f\"Number of people who are elgible for credit card: {results}\")\n"
   ]
  },
  {
   "cell_type": "code",
   "execution_count": 0,
   "metadata": {
    "application/vnd.databricks.v1+cell": {
     "cellMetadata": {
      "byteLimit": 2048000,
      "rowLimit": 10000
     },
     "inputWidgets": {},
     "nuid": "47a2b23e-dbf7-4801-8a35-25dbede87f14",
     "showTitle": false,
     "tableResultSettingsMap": {},
     "title": ""
    }
   },
   "outputs": [
    {
     "name": "stdout",
     "output_type": "stream",
     "text": [
      "Number of people who are elgible and active: 2312\n"
     ]
    }
   ],
   "source": [
    "# Find the number of members who are  elgible and active in the bank\n",
    "eligible_people = credit_df.filter(\n",
    "    (col(\"CreditScore\") > 650) \n",
    "    & (col(\"Exited\") == 0)\n",
    "    & (col(\"IsActiveMember\") == 1)\n",
    ")\n",
    "\n",
    "# Count the number of people matching these criteria\n",
    "results = eligible_people.count()\n",
    "\n",
    "print(f\"Number of people who are elgible and active: {results}\")\n"
   ]
  },
  {
   "cell_type": "code",
   "execution_count": 0,
   "metadata": {
    "application/vnd.databricks.v1+cell": {
     "cellMetadata": {
      "byteLimit": 2048000,
      "rowLimit": 10000
     },
     "inputWidgets": {},
     "nuid": "ff1bfb8d-434f-47de-a96b-973929cf7766",
     "showTitle": false,
     "tableResultSettingsMap": {},
     "title": ""
    }
   },
   "outputs": [
    {
     "name": "stdout",
     "output_type": "stream",
     "text": [
      "Number of people from Spain: 2477\n"
     ]
    }
   ],
   "source": [
    "# Find the credit card users in Spain \n",
    "results = credit_df.filter(col(\"Geography\") == \"Spain\").count()\n",
    "print(f\"Number of people from Spain: {results}\")"
   ]
  },
  {
   "cell_type": "code",
   "execution_count": 0,
   "metadata": {
    "application/vnd.databricks.v1+cell": {
     "cellMetadata": {
      "byteLimit": 2048000,
      "rowLimit": 10000
     },
     "inputWidgets": {},
     "nuid": "74f31407-f0bc-41d0-b232-daf9d698a3d1",
     "showTitle": false,
     "tableResultSettingsMap": {},
     "title": ""
    }
   },
   "outputs": [
    {
     "name": "stdout",
     "output_type": "stream",
     "text": [
      "+----------+\n",
      "|CustomerId|\n",
      "+----------+\n",
      "|  15634602|\n",
      "|  15619304|\n",
      "|  15574012|\n",
      "|  15656148|\n",
      "|  15699309|\n",
      "|  15589475|\n",
      "|  15738148|\n",
      "|  15755196|\n",
      "|  15602280|\n",
      "|  15771573|\n",
      "|  15702298|\n",
      "|  15663706|\n",
      "|  15762418|\n",
      "|  15757535|\n",
      "|  15804919|\n",
      "|  15609618|\n",
      "|  15661670|\n",
      "|  15627360|\n",
      "|  15713483|\n",
      "|  15612350|\n",
      "+----------+\n",
      "only showing top 20 rows\n"
     ]
    }
   ],
   "source": [
    "# Find the credit card users with Estiamted Salary greater than 100000 and have exited the card\n",
    "results = credit_df.filter(\n",
    "    (col(\"EstimatedSalary\") > 100000) \n",
    "    & (col(\"Exited\") == 1)\n",
    ")\n",
    "results.select('CustomerId').show()"
   ]
  },
  {
   "cell_type": "code",
   "execution_count": 0,
   "metadata": {
    "application/vnd.databricks.v1+cell": {
     "cellMetadata": {
      "byteLimit": 2048000,
      "rowLimit": 10000
     },
     "inputWidgets": {},
     "nuid": "e654bfce-00b2-4510-a44e-d91ac7b7acd8",
     "showTitle": false,
     "tableResultSettingsMap": {},
     "title": ""
    },
    "scrolled": false
   },
   "outputs": [
    {
     "name": "stdout",
     "output_type": "stream",
     "text": [
      "+----------+\n",
      "|CustomerId|\n",
      "+----------+\n",
      "|  15701354|\n",
      "|  15592531|\n",
      "|  15792365|\n",
      "|  15767821|\n",
      "|  15737173|\n",
      "|  15632264|\n",
      "|  15600882|\n",
      "|  15643966|\n",
      "|  15788218|\n",
      "|  15568982|\n",
      "|  15725737|\n",
      "|  15700772|\n",
      "|  15656300|\n",
      "|  15750181|\n",
      "|  15659428|\n",
      "|  15768193|\n",
      "|  15789484|\n",
      "|  15703793|\n",
      "|  15779052|\n",
      "|  15780961|\n",
      "+----------+\n",
      "only showing top 20 rows\n"
     ]
    }
   ],
   "source": [
    "# Find the credit card users with Estiamted Salary less than 100000 and have more than 1 products\n",
    "credit_df = credit_df.withColumn(\"EstimatedSalary\", col(\"EstimatedSalary\").cast(\"double\"))\n",
    "credit_df = credit_df.withColumn(\"NumOfProducts\", col(\"NumOfProducts\").cast(\"integer\"))\n",
    "\n",
    "# Filter for users with Estimated Salary < 100000 AND NumOfProducts > 1\n",
    "target_users = credit_df.filter(\n",
    "    (col(\"EstimatedSalary\") < 100000) & \n",
    "    (col(\"NumOfProducts\") > 1)\n",
    ")\n",
    "\n",
    "# Show the matching users\n",
    "target_users.select('CustomerId').show()\n"
   ]
  },
  {
   "cell_type": "markdown",
   "metadata": {
    "application/vnd.databricks.v1+cell": {
     "cellMetadata": {
      "byteLimit": 2048000,
      "rowLimit": 10000
     },
     "inputWidgets": {},
     "nuid": "7c7d3132-06fc-48c1-af92-89b7968bc170",
     "showTitle": false,
     "tableResultSettingsMap": {},
     "title": ""
    }
   },
   "source": [
    "# TRANSACTION DATASET #"
   ]
  },
  {
   "cell_type": "code",
   "execution_count": 0,
   "metadata": {
    "application/vnd.databricks.v1+cell": {
     "cellMetadata": {
      "byteLimit": 2048000,
      "rowLimit": 10000
     },
     "inputWidgets": {},
     "nuid": "c0dee25f-e929-4e47-8afa-8f6467742f68",
     "showTitle": false,
     "tableResultSettingsMap": {},
     "title": ""
    }
   },
   "outputs": [],
   "source": [
    "# Load the transacton dataset\n",
    "txn_df = spark.read.options(delimiter=',').csv('/mnt/springboardde/demo/txn.csv',inferSchema=True,header=True)"
   ]
  },
  {
   "cell_type": "code",
   "execution_count": 0,
   "metadata": {
    "application/vnd.databricks.v1+cell": {
     "cellMetadata": {
      "byteLimit": 2048000,
      "rowLimit": 10000
     },
     "inputWidgets": {},
     "nuid": "76ac1e93-6b64-4f18-994d-62002fcf4f57",
     "showTitle": false,
     "tableResultSettingsMap": {},
     "title": ""
    }
   },
   "outputs": [
    {
     "name": "stdout",
     "output_type": "stream",
     "text": [
      "root\n",
      " |-- Account No: string (nullable = true)\n",
      " |-- TRANSACTION DETAILS: string (nullable = true)\n",
      " |-- VALUE DATE: string (nullable = true)\n",
      " |--  WITHDRAWAL AMT : double (nullable = true)\n",
      " |--  DEPOSIT AMT : double (nullable = true)\n",
      " |-- BALANCE AMT: double (nullable = true)\n",
      "\n"
     ]
    }
   ],
   "source": [
    "# Print the schema of the transacton dataset\n",
    "txn_df.printSchema()"
   ]
  },
  {
   "cell_type": "code",
   "execution_count": 0,
   "metadata": {
    "application/vnd.databricks.v1+cell": {
     "cellMetadata": {
      "byteLimit": 2048000,
      "rowLimit": 10000
     },
     "inputWidgets": {},
     "nuid": "1c171b91-adaf-4a08-90b4-83cd3ad0eaf8",
     "showTitle": false,
     "tableResultSettingsMap": {},
     "title": ""
    }
   },
   "outputs": [
    {
     "name": "stdout",
     "output_type": "stream",
     "text": [
      "+-------------+-----+\n",
      "|   Account No|count|\n",
      "+-------------+-----+\n",
      "|409000438611'| 4588|\n",
      "|     1196711'|10536|\n",
      "|     1196428'|48779|\n",
      "|409000493210'| 6014|\n",
      "|409000611074'| 1093|\n",
      "|409000425051'|  802|\n",
      "|409000405747'|   51|\n",
      "|409000493201'| 1044|\n",
      "|409000438620'|13454|\n",
      "|409000362497'|29840|\n",
      "+-------------+-----+\n",
      "\n"
     ]
    }
   ],
   "source": [
    "#COUNT OF TRANSACTION ON EVERY ACCOUNT\n",
    "results = txn_df.groupBy(\"Account No\").agg(\n",
    "    count(\"*\").alias(\"count\")\n",
    ")\n",
    "results.show()\n"
   ]
  },
  {
   "cell_type": "code",
   "execution_count": 0,
   "metadata": {
    "application/vnd.databricks.v1+cell": {
     "cellMetadata": {
      "byteLimit": 2048000,
      "rowLimit": 10000
     },
     "inputWidgets": {},
     "nuid": "aa14fa57-393a-4c9d-9bc8-d23ae478ddb8",
     "showTitle": false,
     "tableResultSettingsMap": {},
     "title": ""
    }
   },
   "outputs": [
    {
     "name": "stdout",
     "output_type": "stream",
     "text": [
      "+-------------+---------------------+\n",
      "|   Account No|max( WITHDRAWAL AMT )|\n",
      "+-------------+---------------------+\n",
      "|409000438611'|                2.4E8|\n",
      "|     1196711'|        4.594475464E8|\n",
      "|     1196428'|                1.5E8|\n",
      "|409000493210'|                1.5E7|\n",
      "|409000611074'|             912000.0|\n",
      "|409000425051'|               3.54E8|\n",
      "|409000405747'|                1.7E8|\n",
      "|409000493201'|            2500000.0|\n",
      "|409000438620'|                4.0E8|\n",
      "|409000362497'|        1.413662392E8|\n",
      "+-------------+---------------------+\n",
      "\n"
     ]
    }
   ],
   "source": [
    "# Find the Maximum withdrawal amount for each account\n",
    "results = txn_df.groupBy(\"Account No\").agg(\n",
    "    max(\" WITHDRAWAL AMT \")\n",
    ")\n",
    "results.show()"
   ]
  },
  {
   "cell_type": "code",
   "execution_count": 0,
   "metadata": {
    "application/vnd.databricks.v1+cell": {
     "cellMetadata": {
      "byteLimit": 2048000,
      "rowLimit": 10000
     },
     "inputWidgets": {},
     "nuid": "7f2731c0-21a4-4920-b92e-c1dc860bb7ad",
     "showTitle": false,
     "tableResultSettingsMap": {},
     "title": ""
    }
   },
   "outputs": [
    {
     "name": "stdout",
     "output_type": "stream",
     "text": [
      "+-------------+---------------------+\n",
      "|   Account No|min( WITHDRAWAL AMT )|\n",
      "+-------------+---------------------+\n",
      "|409000438611'|                  0.2|\n",
      "|     1196711'|                 0.25|\n",
      "|     1196428'|                 0.25|\n",
      "|409000493210'|                 0.01|\n",
      "|409000611074'|                120.0|\n",
      "|409000425051'|                 1.25|\n",
      "|409000405747'|                 21.0|\n",
      "|409000493201'|                  2.1|\n",
      "|409000438620'|                 0.34|\n",
      "|409000362497'|                 0.97|\n",
      "+-------------+---------------------+\n",
      "\n"
     ]
    }
   ],
   "source": [
    "#MINIMUM WITHDRAWAL AMOUNT OF AN ACCOUNT\n",
    "results = txn_df.groupBy(\"Account No\").agg(\n",
    "    min(\" WITHDRAWAL AMT \")\n",
    ")\n",
    "results.show()"
   ]
  },
  {
   "cell_type": "code",
   "execution_count": 0,
   "metadata": {
    "application/vnd.databricks.v1+cell": {
     "cellMetadata": {
      "byteLimit": 2048000,
      "rowLimit": 10000
     },
     "inputWidgets": {},
     "nuid": "ca8e4144-b340-4a60-a1b6-745a9c730708",
     "showTitle": false,
     "tableResultSettingsMap": {},
     "title": ""
    },
    "scrolled": true
   },
   "outputs": [
    {
     "name": "stdout",
     "output_type": "stream",
     "text": [
      "+-------------+------------------+\n",
      "|   Account No|max( DEPOSIT AMT )|\n",
      "+-------------+------------------+\n",
      "|409000438611'|          1.7025E8|\n",
      "|     1196711'|             5.0E8|\n",
      "|     1196428'|     2.119594422E8|\n",
      "|409000493210'|             1.5E7|\n",
      "|409000611074'|         3000000.0|\n",
      "|409000425051'|             1.5E7|\n",
      "|409000405747'|           2.021E8|\n",
      "|409000493201'|         1000000.0|\n",
      "|409000438620'|           5.448E8|\n",
      "|409000362497'|             2.0E8|\n",
      "+-------------+------------------+\n",
      "\n"
     ]
    }
   ],
   "source": [
    "#MAXIMUM DEPOSIT AMOUNT OF AN ACCOUNT\n",
    "results = txn_df.groupBy(\"Account No\").agg(\n",
    "    max(\" DEPOSIT AMT \")\n",
    ")\n",
    "results.show()"
   ]
  },
  {
   "cell_type": "code",
   "execution_count": 0,
   "metadata": {
    "application/vnd.databricks.v1+cell": {
     "cellMetadata": {
      "byteLimit": 2048000,
      "rowLimit": 10000
     },
     "inputWidgets": {},
     "nuid": "96cbbb0e-9a46-48a8-b9c6-15755184f9a7",
     "showTitle": false,
     "tableResultSettingsMap": {},
     "title": ""
    }
   },
   "outputs": [
    {
     "name": "stdout",
     "output_type": "stream",
     "text": [
      "+-------------+------------------+\n",
      "|   Account No|min( DEPOSIT AMT )|\n",
      "+-------------+------------------+\n",
      "|409000438611'|              0.03|\n",
      "|     1196711'|              1.01|\n",
      "|     1196428'|               1.0|\n",
      "|409000493210'|              0.01|\n",
      "|409000611074'|            1320.0|\n",
      "|409000425051'|               1.0|\n",
      "|409000405747'|             500.0|\n",
      "|409000493201'|               0.9|\n",
      "|409000438620'|              0.07|\n",
      "|409000362497'|              0.03|\n",
      "+-------------+------------------+\n",
      "\n"
     ]
    }
   ],
   "source": [
    "#MINIMUM DEPOSIT AMOUNT OF AN ACCOUNT\n",
    "results = txn_df.groupBy(\"Account No\").agg(\n",
    "    min(\" DEPOSIT AMT \")\n",
    ")\n",
    "results.show()"
   ]
  },
  {
   "cell_type": "code",
   "execution_count": 0,
   "metadata": {
    "application/vnd.databricks.v1+cell": {
     "cellMetadata": {
      "byteLimit": 2048000,
      "rowLimit": 10000
     },
     "inputWidgets": {},
     "nuid": "b648785e-fade-4e86-8b10-c9dd250cfa4c",
     "showTitle": false,
     "tableResultSettingsMap": {},
     "title": ""
    }
   },
   "outputs": [
    {
     "name": "stdout",
     "output_type": "stream",
     "text": [
      "+-------------+--------------------+\n",
      "|   Account No|    sum(BALANCE AMT)|\n",
      "+-------------+--------------------+\n",
      "|409000438611'|-2.49486577068339...|\n",
      "|     1196711'|-1.60476498101275E13|\n",
      "|     1196428'| -8.1418498130721E13|\n",
      "|409000493210'|-3.27584952132095...|\n",
      "|409000611074'|       1.615533622E9|\n",
      "|409000425051'|-3.77211841164998...|\n",
      "|409000405747'|-2.43108047067000...|\n",
      "|409000493201'|1.0420831829499985E9|\n",
      "|409000438620'|-7.12291867951358...|\n",
      "|409000362497'| -5.2860004792808E13|\n",
      "+-------------+--------------------+\n",
      "\n"
     ]
    }
   ],
   "source": [
    "#sum of balance in every bank account\n",
    "results = txn_df.groupBy(\"Account No\").agg(\n",
    "    sum(\"BALANCE AMT\")\n",
    ")\n",
    "results.show()"
   ]
  },
  {
   "cell_type": "code",
   "execution_count": 0,
   "metadata": {
    "application/vnd.databricks.v1+cell": {
     "cellMetadata": {
      "byteLimit": 2048000,
      "rowLimit": 10000
     },
     "inputWidgets": {},
     "nuid": "f420bf72-3ad9-42e5-8844-ef4b26167bdb",
     "showTitle": false,
     "tableResultSettingsMap": {},
     "title": ""
    },
    "scrolled": true
   },
   "outputs": [
    {
     "name": "stdout",
     "output_type": "stream",
     "text": [
      "+----------+-----+\n",
      "|VALUE DATE|count|\n",
      "+----------+-----+\n",
      "| 23-Dec-16|  143|\n",
      "|  7-Feb-19|   98|\n",
      "| 21-Jul-15|   80|\n",
      "|  9-Sep-15|   91|\n",
      "| 17-Jan-15|   16|\n",
      "| 18-Nov-17|   53|\n",
      "| 21-Feb-18|   77|\n",
      "| 20-Mar-18|   71|\n",
      "| 19-Apr-18|   71|\n",
      "| 21-Jun-16|   97|\n",
      "| 17-Oct-17|  101|\n",
      "|  3-Jan-18|   70|\n",
      "|  8-Jun-18|  223|\n",
      "| 15-Dec-18|   62|\n",
      "|  8-Aug-16|   97|\n",
      "| 17-Dec-16|   74|\n",
      "|  3-Sep-15|   83|\n",
      "| 21-Jan-16|   76|\n",
      "|  4-May-18|   92|\n",
      "|  7-Sep-17|   94|\n",
      "+----------+-----+\n",
      "only showing top 20 rows\n"
     ]
    }
   ],
   "source": [
    "#Number of transaction on each date\n",
    "results = txn_df.groupBy(\"VALUE DATE\").agg(\n",
    "    count(\"*\").alias(\"count\")\n",
    ")\n",
    "results.show()"
   ]
  },
  {
   "cell_type": "code",
   "execution_count": 0,
   "metadata": {
    "application/vnd.databricks.v1+cell": {
     "cellMetadata": {
      "byteLimit": 2048000,
      "rowLimit": 10000
     },
     "inputWidgets": {},
     "nuid": "7c609a97-e9be-4ca5-bd2d-182b8fe81766",
     "showTitle": false,
     "tableResultSettingsMap": {},
     "title": ""
    }
   },
   "outputs": [
    {
     "name": "stdout",
     "output_type": "stream",
     "text": [
      "+-------------+\n",
      "|   Account No|\n",
      "+-------------+\n",
      "|409000611074'|\n",
      "|409000611074'|\n",
      "|409000611074'|\n",
      "|409000611074'|\n",
      "|409000611074'|\n",
      "|409000611074'|\n",
      "|409000611074'|\n",
      "|409000611074'|\n",
      "|409000611074'|\n",
      "|409000611074'|\n",
      "|409000611074'|\n",
      "|409000611074'|\n",
      "|409000611074'|\n",
      "|409000611074'|\n",
      "|409000611074'|\n",
      "|409000611074'|\n",
      "|409000611074'|\n",
      "|409000611074'|\n",
      "|409000611074'|\n",
      "|409000611074'|\n",
      "+-------------+\n",
      "only showing top 20 rows\n"
     ]
    }
   ],
   "source": [
    "#List of customers with withdrawal amount more than 1 lakh\n",
    "txn_df = txn_df.withColumn(\n",
    "    \"WITH_Amount_Clean\", \n",
    "    regexp_replace(regexp_replace(col(\" WITHDRAWAL AMT \"), \"[, ]\", \"\"), '\"', \"\").cast(\"double\")\n",
    ")\n",
    "\n",
    "# Filter for amounts greater than 100,000 (1 lakh)\n",
    "results = txn_df.filter(col(\"WITH_Amount_Clean\") > 100000)\n",
    "\n",
    "results.select('Account No').show()"
   ]
  },
  {
   "cell_type": "code",
   "execution_count": 0,
   "metadata": {
    "application/vnd.databricks.v1+cell": {
     "cellMetadata": {
      "byteLimit": 2048000,
      "rowLimit": 10000
     },
     "inputWidgets": {},
     "nuid": "2b94e7de-c3cb-44ed-8960-365fa4fcb956",
     "showTitle": false,
     "tableResultSettingsMap": {},
     "title": ""
    }
   },
   "outputs": [
    {
     "name": "stdout",
     "output_type": "stream",
     "text": [
      "/mnt/springboardde/demo has been unmounted.\n"
     ]
    },
    {
     "data": {
      "text/plain": [
       "True"
      ]
     },
     "execution_count": 134,
     "metadata": {},
     "output_type": "execute_result"
    }
   ],
   "source": [
    "dbutils.fs.unmount('/mnt/springboardde/demo')"
   ]
  }
 ],
 "metadata": {
  "application/vnd.databricks.v1+notebook": {
   "computePreferences": null,
   "dashboards": [],
   "environmentMetadata": null,
   "inputWidgetPreferences": null,
   "language": "python",
   "notebookMetadata": {
    "pythonIndentUnit": 4
   },
   "notebookName": "banking_lab",
   "widgets": {}
  },
  "kernelspec": {
   "display_name": "Python 3",
   "language": "python",
   "name": "python3"
  },
  "language_info": {
   "name": "python"
  }
 },
 "nbformat": 4,
 "nbformat_minor": 0
}
